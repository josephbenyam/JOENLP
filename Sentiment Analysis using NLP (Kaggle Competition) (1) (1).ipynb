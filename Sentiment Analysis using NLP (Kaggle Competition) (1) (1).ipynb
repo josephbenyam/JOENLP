{
 "cells": [
  {
   "cell_type": "markdown",
   "metadata": {},
   "source": [
    "Joseph Benyam\n",
    "DS/DS/13 Final Project 3 Deliverable\n",
    "\n",
    "  ### Subject: Sentiment Analysis of ISIS Social Network Strategy\n",
    "  (https://www.kaggle.com/kzaman/how-isis-uses-twitter) "
   ]
  },
  {
   "cell_type": "markdown",
   "metadata": {},
   "source": [
    "#### Problem: \n",
    "Terrorist organizations continue to use social media as a prominent tool for recruitment. ISIS Fanboys use common social media platforms like Twitter to carry out radicalization campaigns in hopes of inspiring terror. However, counter-terrorism analysts can apply emerging Natural Language Processing (NLP) Teqniques to gain deeper insights from ISIS Fanboy-generated social media intelligence.\n",
    "\n",
    "#### Research Question: \n",
    "Using Natural Language Processing, statistics, or machine learning methods to extract, identify, or otherwise characterize the sentiment content of the following prominent islamic clergy:\n",
    "\n",
    "###### Like the Most (Positive Sentiment):\n",
    "     \"Anwar Awlaki\", \n",
    "     \"Ahmad Jibril\", \n",
    "     \"Ibn Taymiyyah\", \n",
    "     \"Abdul Wahhab\"\n",
    " \n",
    "###### Hate the Most (Negative Sentiment):\n",
    "     \"Hamza Yusuf\", \n",
    "     \"Suhaib Webb\", \n",
    "     \"Yaser Qadhi\", \n",
    "     \"Nouman Ali Khan\", \n",
    "     \"Yaqoubi\".\n",
    "\n",
    "#### Hypothesis: \n",
    "I plan to determine which clergy do pro-ISIS fanboys like the most and which ones do they hate the most. Using Natural Language Processing methods to extract, identify, or otherwise characterize the sentiment of the named islamic religious leaders. I will provide brief descriptions of each Islamic clergy for context in understanding the sentiments. This domaine knowledge is critical for effective implementation of sentiment analysis, particularly to bettercomprehend the context.\n",
    "\n",
    "#### Research Data: \n",
    "The dataset consists of 17,000 tweets from 100+ pro-ISIS sympathizers from all over the world since November 2016 Paris Attacks. The dataset is structured and includes.the following labels: name, username, description, location, Number of followers at the time the tweet was downloaded, Number of statuses by the user when the tweet was downloaded, date and timestamp of the tweet, the tweet itself. However, we can conduct out sentiment analysis with an aggreagation of the the tweets.\n",
    "\n",
    "#### Tools and Keywords: \n",
    "spaCy, Gensim, word2vec, Natural Language Processing, Unstructured Learning"
   ]
  },
  {
   "cell_type": "markdown",
   "metadata": {},
   "source": [
    "###### Preliminary Steps and Twitter Data Preparation"
   ]
  },
  {
   "cell_type": "code",
   "execution_count": 29,
   "metadata": {
    "collapsed": true
   },
   "outputs": [],
   "source": [
    "# Import DS natural language processing tools - Spacy and Gensim (complete)\n",
    "import spacy\n",
    "from spacy.en import English\n",
    "nlp_toolkit = English()\n",
    "from gensim.models.word2vec import Word2Vec"
   ]
  },
  {
   "cell_type": "code",
   "execution_count": 30,
   "metadata": {
    "collapsed": false
   },
   "outputs": [],
   "source": [
    "# load the twitter data (complete)\n",
    "tweets = [unicode(tweet, errors='ignore') for tweet in \\\n",
    "          open('C:/Users/Joseph Benyam/Downloads/Data Science/isistweets.txt','r')]"
   ]
  },
  {
   "cell_type": "markdown",
   "metadata": {},
   "source": [
    "### Sentiment Analysis and Target Descriptions (NLP Methods)"
   ]
  },
  {
   "cell_type": "markdown",
   "metadata": {
    "collapsed": true
   },
   "source": [
    "### Abstract:\n",
    "Using Natural Language Processing (NLP) teqniques, identify and print tweets containing named muslim clergy. Provide brief description of the muslim clergy for to help the reader better evaluate the sentiments of the ISIS fanboys. Order by examples of clergy they like the most and examples of clergy they hate the most."
   ]
  },
  {
   "cell_type": "code",
   "execution_count": 32,
   "metadata": {
    "collapsed": false
   },
   "outputs": [],
   "source": [
    "# parse each tweet (complete)\n",
    "parsed_tweets = []\n",
    "for tweet in tweets:\n",
    "    parsed_tweets.append(nlp_toolkit(tweet))"
   ]
  },
  {
   "cell_type": "code",
   "execution_count": 33,
   "metadata": {
    "collapsed": false
   },
   "outputs": [],
   "source": [
    "# Write a  function that can take a sentence prased by spacy and identify if it mentions a named-Sheik.\n",
    "def sheiks_of_interest(parsed, person):\n",
    "    for entity in parsed.ents:\n",
    "        if entity.text == person and entity.label_=='PERSON':\n",
    "            return True\n",
    "        return False"
   ]
  },
  {
   "cell_type": "markdown",
   "metadata": {},
   "source": [
    "## Sheik's ISIS Fanboys Like the Most (Part 1)"
   ]
  },
  {
   "cell_type": "markdown",
   "metadata": {},
   "source": [
    "### 1. Ahmad Jibril"
   ]
  },
  {
   "cell_type": "markdown",
   "metadata": {},
   "source": [
    "#### Brief Description:\n",
    "Contemporary Salafist extremist born on 1971 in Dearborn, Michigan. Active recruiter and propogandist. Strong reverent of Salafist Ideologies. Ahman Jibril reportedly advocates for Westerners to serve as foriegn fighters in the war in Syria. He directly praises Syrian rebeles, comparing them to early muslim fighters.  "
   ]
  },
  {
   "cell_type": "code",
   "execution_count": 79,
   "metadata": {
    "collapsed": false
   },
   "outputs": [
    {
     "name": "stdout",
     "output_type": "stream",
     "text": [
      "Do Not Compromise - Shaykh Ahmad Jibril   https://t.co/zdnzgZ3ETB\n",
      "\n"
     ]
    }
   ],
   "source": [
    "## Test Function Call and Print Tweets \n",
    "for i, parsed_tweet in enumerate(parsed_tweets):\n",
    "    if sheiks_of_interest(parsed_tweet, 'Ahmad Jibril'):\n",
    "        print parsed_tweet\n",
    "        if i>1000:\n",
    "            break"
   ]
  },
  {
   "cell_type": "markdown",
   "metadata": {},
   "source": [
    "#### Experiment Finding: \n",
    "One instance of Shaykh Ahmad Jibril referenced in the dataset. ISIS Fanboy conveys solidarity with neutral sentiment."
   ]
  },
  {
   "cell_type": "markdown",
   "metadata": {},
   "source": [
    "### 2. Anwar Alawki"
   ]
  },
  {
   "cell_type": "markdown",
   "metadata": {},
   "source": [
    "#### Brief Description:\n",
    "*Pending"
   ]
  },
  {
   "cell_type": "code",
   "execution_count": 80,
   "metadata": {
    "collapsed": false
   },
   "outputs": [],
   "source": [
    "## Test Function Call and Print Tweets:\n",
    "for i, parsed_tweet in enumerate(parsed_tweets):\n",
    "    if sheiks_of_interest(parsed_tweet, 'Anwar Alawki'):\n",
    "        print parsed_tweet\n",
    "        if i>1000:\n",
    "            break"
   ]
  },
  {
   "cell_type": "markdown",
   "metadata": {},
   "source": [
    "##### Experiment Finding\n",
    "The absence of any return on the above function call suggests that Abdul Wahhab is not a named within the dataset."
   ]
  },
  {
   "cell_type": "markdown",
   "metadata": {},
   "source": [
    "### 3. Ibn Taymiyya"
   ]
  },
  {
   "cell_type": "markdown",
   "metadata": {},
   "source": [
    "##### Brief Description:\n",
    "Notable 14th century islamic religious scholar. Espoused the famous Faqi form of Islamic jurisprudence. Believed that Islamic form of government can vary from time to time and place to place depending on custom and circumstances, as long as Shariah is safeguarded.\n",
    "His main issues:\n",
    "\n",
    "Shifted the focus of jihad from personal and social to military (politization of jihad) *this was not a theme of reform Necessity of maintaining the flexibility of Islamic law through ijtihad  *a theme of reformà to make sure that its government is still Islamic.\n",
    "\n",
    "Rejecting the ethos of fatalism: The opposite of ijtihad is following precedent.  The idea that when you are living in a society that says that everything is fine and you should just accept it because it is God’s will traces back to the time when.\n",
    " \n",
    "His main doctrine was, in Ḥanbalī fashion, based on the supremacy of Qurʿān and sunnah (received custom) and the salaf (early Muslims)as ultimate authorities.  He thought that the form of government can vary but legal authority does not only remain distinct from executive administration but is also of primary importance: an Islamic legal system must be maintained to give the government legitimacy.  \n",
    "\n",
    "Believed that many of the problems of the Muslim world in his time resulted from leaders’ efforts to keep that world politically unified.  Ideally, the community was united, but in reality, it was divided into regional units.  \n",
    "\n",
    "He was distrustful of non-Mislims but insisted on religious freedom.  Rejection of fatalism and rejection of intercession of the saints.  Argued that ijtihad must remain active and was a religious duty, lest Islamic law become irrelevant.  He stressed the difference between Shariah and fiqh."
   ]
  },
  {
   "cell_type": "code",
   "execution_count": 44,
   "metadata": {
    "collapsed": false
   },
   "outputs": [
    {
     "name": "stdout",
     "output_type": "stream",
     "text": [
      "RT @IWantDollars: Ibn Taymiyya condemned Hulago Khan in his face. But Celebrity Mufti Ismail Menk presents gifts to occupiers instead: http\n",
      "\n"
     ]
    }
   ],
   "source": [
    "## Test Function Call and Print Tweets: \n",
    "for i, parsed_tweet in enumerate(parsed_tweets):\n",
    "    if sheiks_of_interest(parsed_tweet, 'Ibn Taymiyya'):\n",
    "        print parsed_tweet\n",
    "        if i>1000:\n",
    "            break"
   ]
  },
  {
   "cell_type": "markdown",
   "metadata": {},
   "source": [
    "#### Expirement Findings:\n",
    "*Pending"
   ]
  },
  {
   "cell_type": "markdown",
   "metadata": {},
   "source": [
    "### 4. Muhammed Abdul Wahhab"
   ]
  },
  {
   "cell_type": "markdown",
   "metadata": {},
   "source": [
    "#### Brief Description: \n",
    "Founder of the fundamentalist sect of Islamic tradition that believed in reverting to the values of the original Islamic community. He tought a traditional and literal application of the Quran, which focused on mirroring early Isalmic practices, depite reforms in traditions, morals, and technology. Wahhabis strictly prohibit innovation and intepretation of messages within the Quran.\n",
    "\n",
    "He also believed in Tafkir, which is the practice of labeling someone an unbeliever, which ironically was prohibited in the fist Islamic state. He sanction the destruction of shrines and temples and violently opressed/sometimes massacred Sufis and Shia muslims."
   ]
  },
  {
   "cell_type": "code",
   "execution_count": 81,
   "metadata": {
    "collapsed": false
   },
   "outputs": [],
   "source": [
    "## Test Function Call and Print Tweets\n",
    "for i, parsed_tweet in enumerate(parsed_tweets):\n",
    "    if sheiks_of_interest(parsed_tweet, 'Abdul Wahhab'):\n",
    "        print parsed_tweet\n",
    "        if i>1000:\n",
    "            break"
   ]
  },
  {
   "cell_type": "markdown",
   "metadata": {},
   "source": [
    "#### Experiment Finding: \n",
    "The absence of any return on the above function call suggests that Abdul Wahhab is not a named within the dataset."
   ]
  },
  {
   "cell_type": "markdown",
   "metadata": {},
   "source": [
    "## Sheik's ISIS Fanboys Hate the Most (Part 2)"
   ]
  },
  {
   "cell_type": "markdown",
   "metadata": {},
   "source": [
    "### 1. Hamza Yusuf"
   ]
  },
  {
   "cell_type": "markdown",
   "metadata": {},
   "source": [
    "#### Brief Description:\n",
    "*Pending"
   ]
  },
  {
   "cell_type": "code",
   "execution_count": 78,
   "metadata": {
    "collapsed": true
   },
   "outputs": [],
   "source": [
    "## Test Function Call and Print Tweets: \n",
    "## Again, the absence of any return below indicates that Muhammed Abdul Wahhab is\n",
    "## not a named entity within the dataset.\n",
    "for i, parsed_tweet in enumerate(parsed_tweets):\n",
    "    if sheiks_of_interest(parsed_tweet, 'Hamza Yusuf'):\n",
    "        print parsed_tweet\n",
    "        if i>1000:\n",
    "            break"
   ]
  },
  {
   "cell_type": "markdown",
   "metadata": {},
   "source": [
    "#### Experiment Finding: \n",
    "The absence of any return on the above function call suggests that Hamza Yusuf is not a named Persons entity within the dataset."
   ]
  },
  {
   "cell_type": "markdown",
   "metadata": {},
   "source": [
    "### 2. Suhaib Webb"
   ]
  },
  {
   "cell_type": "markdown",
   "metadata": {},
   "source": [
    "#### Brief Description:\n",
    "*Pending"
   ]
  },
  {
   "cell_type": "code",
   "execution_count": 70,
   "metadata": {
    "collapsed": false
   },
   "outputs": [
    {
     "name": "stdout",
     "output_type": "stream",
     "text": [
      "RT @IWantDollars: Suhaib Webb prays for dead Kuffar but is silent on the 100+ students killed in Mosul University. No Walaa wal Baraa: http\n",
      "\n"
     ]
    }
   ],
   "source": [
    "## Test Function Call and Print Tweets\n",
    "for i, parsed_tweet in enumerate(parsed_tweets):\n",
    "    if sheiks_of_interest(parsed_tweet, 'Suhaib Webb'):\n",
    "        print parsed_tweet\n",
    "        if i>1000:\n",
    "            break"
   ]
  },
  {
   "cell_type": "markdown",
   "metadata": {},
   "source": [
    "#### Experiment Findings: \n",
    "The Islamic State on Tuesday claimed responsibility for bombings that killed at least 34 people at the Brussels airport and a subway station. "
   ]
  },
  {
   "cell_type": "markdown",
   "metadata": {},
   "source": [
    "### 3. Yaser Qadhi"
   ]
  },
  {
   "cell_type": "markdown",
   "metadata": {},
   "source": [
    "#### Brief Description:\n",
    "*Pending"
   ]
  },
  {
   "cell_type": "code",
   "execution_count": 73,
   "metadata": {
    "collapsed": true
   },
   "outputs": [],
   "source": [
    "## Test Function Call and Print Tweets:\n",
    "for i, parsed_tweet in enumerate(parsed_tweets):\n",
    "    if sheiks_of_interest(parsed_tweet, 'Yaser Qadhi'):\n",
    "        print parsed_tweet\n",
    "        if i>1000:\n",
    "            break"
   ]
  },
  {
   "cell_type": "markdown",
   "metadata": {},
   "source": [
    "#### Experiment Findings: \n",
    "The absence of any return above indicates that Yaser Qadhi is not a named entity within the dataset."
   ]
  },
  {
   "cell_type": "markdown",
   "metadata": {},
   "source": [
    "### 4. Nouman Ali Khan"
   ]
  },
  {
   "cell_type": "markdown",
   "metadata": {},
   "source": [
    "#### Brief Description:\n",
    "*Pending"
   ]
  },
  {
   "cell_type": "code",
   "execution_count": 68,
   "metadata": {
    "collapsed": true
   },
   "outputs": [],
   "source": [
    "## Test Function Call and Print Tweets: \n",
    "for i, parsed_tweet in enumerate(parsed_tweets):\n",
    "    if sheiks_of_interest(parsed_tweet, 'Nouman Ali Khan'):\n",
    "        print parsed_tweet\n",
    "        if i>1000:\n",
    "            break"
   ]
  },
  {
   "cell_type": "markdown",
   "metadata": {},
   "source": [
    "#### Experiment Finding: \n",
    "The absence of any return on the above function call suggests that Yaqoubi is not a named persons entity within the dataset."
   ]
  },
  {
   "cell_type": "markdown",
   "metadata": {},
   "source": [
    "### 5. Yaqoubi"
   ]
  },
  {
   "cell_type": "markdown",
   "metadata": {},
   "source": [
    "#### Brief Description:\n",
    "*Pending"
   ]
  },
  {
   "cell_type": "code",
   "execution_count": 82,
   "metadata": {
    "collapsed": true
   },
   "outputs": [],
   "source": [
    "## Test Function Call and Print Tweets\n",
    "for i, parsed_tweet in enumerate(parsed_tweets):\n",
    "    if sheiks_of_interest(parsed_tweet, 'Yaqoubi'):\n",
    "        print parsed_tweet\n",
    "        if i>1000:\n",
    "            break"
   ]
  },
  {
   "cell_type": "markdown",
   "metadata": {},
   "source": [
    "#### Experiment Finding: \n",
    "The absence of any return on the above function call suggests that Yaqoubi is not a named Persons entity within the dataset."
   ]
  },
  {
   "cell_type": "code",
   "execution_count": null,
   "metadata": {
    "collapsed": true
   },
   "outputs": [],
   "source": []
  }
 ],
 "metadata": {
  "kernelspec": {
   "display_name": "Python 2",
   "language": "python",
   "name": "python2"
  },
  "language_info": {
   "codemirror_mode": {
    "name": "ipython",
    "version": 2
   },
   "file_extension": ".py",
   "mimetype": "text/x-python",
   "name": "python",
   "nbconvert_exporter": "python",
   "pygments_lexer": "ipython2",
   "version": "2.7.11"
  }
 },
 "nbformat": 4,
 "nbformat_minor": 0
}
